{
 "cells": [
  {
   "cell_type": "markdown",
   "metadata": {
    "id": "R3YY_R4gOk0C"
   },
   "source": [
    "# HW2: Evaluation\n",
    "\n",
    "---\n",
    "\n",
    "\n"
   ]
  },
  {
   "cell_type": "markdown",
   "metadata": {
    "id": "f4NWS2dTPPWg"
   },
   "source": [
    "## Name: Mohammad Mahdi Heydari Nasab\n",
    "## Student ID: 99105389"
   ]
  },
  {
   "cell_type": "markdown",
   "metadata": {
    "id": "Y4c2jmCRPQ_E"
   },
   "source": [
    "### **NOTE: Please copy the functions you write in this notebook in a python file (.py) so that you can use it in the other questions that need the evluation functions you write here.**"
   ]
  },
  {
   "cell_type": "markdown",
   "metadata": {
    "id": "JETOJBNHOk0F"
   },
   "source": [
    "## Evaluation for unranked retrieval"
   ]
  },
  {
   "cell_type": "code",
   "execution_count": 1,
   "metadata": {
    "id": "g8VuXutpOk0F"
   },
   "outputs": [],
   "source": [
    "def get_accuracy(y_true, y_predicted):\n",
    "    #TODO\n",
    "    \"\"\"\n",
    "    Gets two array y_true and y_predicted and returns accuracy of model based on these two.\n",
    "    y_true is an array that includes ground truth label and y_predicted includes predicted labels.\n",
    "    \"\"\"\n",
    "    correct_predictions = 0\n",
    "    for i in range(len(y_true)):\n",
    "        if y_predicted[i] == y_true[i]:\n",
    "            correct_predictions += 1\n",
    "    return correct_predictions/len(y_true)"
   ]
  },
  {
   "cell_type": "code",
   "execution_count": 2,
   "metadata": {
    "id": "zY22IuKZOk0G"
   },
   "outputs": [],
   "source": [
    "\"\"\"\n",
    "Avarege variable can have three values: 1-'macro' 2-'micro' 3-'binary'.\n",
    "For Multiclass classification average should be either 'macro' or 'micro' and for Binary classification average\n",
    "is equal to 'binary'.\n",
    "You can read this blog: https://medium.com/@ramit.singh.pahwa/micro-macro-precision-recall-and-f-score-44439de1a044 \n",
    "\"\"\"\n",
    "\n",
    "\n",
    "def get_recall(y_true, y_predicted, average='binary'):\n",
    "    # TODO\n",
    "    if average == 'binary':\n",
    "        true_positive = 0\n",
    "        false_negative = 0\n",
    "        for i in range(len(y_true)):\n",
    "            if y_true[i] and y_predicted[i]:\n",
    "                true_positive += 1\n",
    "            elif y_true[i] and not y_predicted[i]:\n",
    "                false_negative += 1\n",
    "        return true_positive/(true_positive + false_negative)\n",
    "    elif average == 'micro':\n",
    "        true_positive = 0\n",
    "        false_negative = 0\n",
    "        for i in range(len(y_true)):\n",
    "            for j in range(len(y_true[i])):\n",
    "                if y_true[i][j] and y_predicted[i][j]:\n",
    "                    true_positive += 1\n",
    "                elif y_true[i][j] and not y_predicted[i][j]:\n",
    "                    false_negative += 1\n",
    "        return true_positive/(true_positive + false_negative)\n",
    "    elif average == 'macro':\n",
    "        recalls = list()\n",
    "        for i in range(len(y_true)):\n",
    "            true_positive = 0\n",
    "            false_negative = 0\n",
    "            for j in range(len(y_predicted[i])):\n",
    "                if y_true[i][j] and y_predicted[i][j]:\n",
    "                    true_positive += 1\n",
    "                elif y_true[i][j] and not y_predicted[i][j]:\n",
    "                    false_negative += 1\n",
    "            recalls.append(true_positive/(true_positive + false_negative))\n",
    "        return sum(recalls)/len(recalls)\n",
    "\n",
    "\n",
    "\n",
    "\n",
    "def get_precision(y_true, y_predicted, average='binary'):\n",
    "    # TODO\n",
    "    if average == 'binary':\n",
    "        true_positive = 0\n",
    "        false_positive = 0\n",
    "        for i in range(len(y_true)):\n",
    "            if y_true[i] and y_predicted[i]:\n",
    "                true_positive += 1\n",
    "            elif y_predicted[i]:\n",
    "                false_positive += 1\n",
    "        return true_positive/(true_positive + false_positive)\n",
    "    elif average == 'micro':\n",
    "        true_positive = 0\n",
    "        false_positive = 0\n",
    "        for i in range(len(y_true)):\n",
    "            for j in range(len(y_true[i])):\n",
    "                if y_true[i][j] and y_predicted[i][j]:\n",
    "                    true_positive += 1\n",
    "                elif y_predicted[i][j]:\n",
    "                    false_positive += 1\n",
    "        return true_positive/(true_positive + false_positive)\n",
    "    elif average == 'macro':\n",
    "        precisions = list()\n",
    "        for i in range(len(y_true)):\n",
    "            true_positive = 0\n",
    "            false_positive = 0\n",
    "            for j in range(len(y_predicted[i])):\n",
    "                if y_true[i][j] and y_predicted[i][j]:\n",
    "                    true_positive += 1\n",
    "                elif y_predicted[i][j]:\n",
    "                    false_positive += 1\n",
    "            precisions.append(true_positive/(true_positive + false_positive))\n",
    "        return sum(precisions)/len(precisions)\n",
    "\n",
    "\n",
    "def get_f1_score(y_true, y_predicted, average='binary'):\n",
    "    # TODO\n",
    "    precision = get_precision(y_true, y_predicted, average)\n",
    "    recall = get_recall(y_true, y_predicted, average)\n",
    "    return (2 * precision * recall)/(precision + recall)"
   ]
  },
  {
   "cell_type": "markdown",
   "metadata": {
    "id": "8vIsqgwCOk0H"
   },
   "source": [
    "## Evaluation for ranked retrieval"
   ]
  },
  {
   "cell_type": "code",
   "execution_count": 3,
   "metadata": {
    "id": "sGHaQ1fSOk0H"
   },
   "outputs": [],
   "source": [
    "\"\"\"\n",
    "Gets two lists as input and integer k as input and returns precision@k.\n",
    "The actual_list input is a list of elements that should be predicted (without order).\n",
    "Predicted_list input is a list of elemnts that are predicted (order matters).\n",
    "\"\"\"\n",
    "\n",
    "\n",
    "def get_precision_k(actual_list, predicted_list, k):\n",
    "    # TODO\n",
    "\n",
    "    true_positive = 0\n",
    "    for i in range(k):\n",
    "        if actual_list[predicted_list[i]]:\n",
    "            true_positive += 1\n",
    "    return true_positive/k"
   ]
  },
  {
   "cell_type": "code",
   "execution_count": 4,
   "metadata": {
    "id": "QXNLhyctOk0H"
   },
   "outputs": [],
   "source": [
    "\"\"\"\n",
    "Gets two lists as input and integer k as input and returns mean average precision for the first k elements of predicted_list.\n",
    "If k=-1 the function should return map for all elements of predicted_list.\n",
    "The actual_list input is a list of elements that should be predicted (without order).\n",
    "Predicted_list input is a list of elemnts that are predicted (order matters).\n",
    "\"\"\"\n",
    "\n",
    "\n",
    "def get_map_k(actual_list, predicted_list, k=-1):\n",
    "    # TODO\n",
    "    \n",
    "    if k == -1:\n",
    "        k = len(predicted_list)\n",
    "    precisions = list()\n",
    "    for i in range(k):\n",
    "        if actual_list[predicted_list[i]]:\n",
    "            precisions.append(get_precision_k(actual_list, predicted_list, i + 1))\n",
    "    if precisions == []:\n",
    "        return 0\n",
    "    return sum(precisions)/len(precisions)"
   ]
  },
  {
   "cell_type": "code",
   "execution_count": null,
   "metadata": {},
   "outputs": [],
   "source": []
  }
 ],
 "metadata": {
  "colab": {
   "provenance": []
  },
  "kernelspec": {
   "display_name": "Python 3 (ipykernel)",
   "language": "python",
   "name": "python3"
  },
  "language_info": {
   "codemirror_mode": {
    "name": "ipython",
    "version": 3
   },
   "file_extension": ".py",
   "mimetype": "text/x-python",
   "name": "python",
   "nbconvert_exporter": "python",
   "pygments_lexer": "ipython3",
   "version": "3.9.7"
  }
 },
 "nbformat": 4,
 "nbformat_minor": 1
}
